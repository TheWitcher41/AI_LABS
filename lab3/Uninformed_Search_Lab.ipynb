{
 "cells": [
  {
   "cell_type": "markdown",
   "metadata": {},
   "source": [
    "BFS Function to traverse a Maze"
   ]
  },
  {
   "cell_type": "code",
   "execution_count": 5,
   "metadata": {},
   "outputs": [
    {
     "name": "stdout",
     "output_type": "stream",
     "text": [
      "BFS: Steps = 9, Path = [(0, 0), (1, 0), (2, 0), (3, 0), (4, 0), (4, 1), (4, 2), (4, 3), (4, 4)]\n"
     ]
    }
   ],
   "source": [
    "from collections import deque\n",
    "\n",
    "def bfs_maze(maze):\n",
    "    # Get the dimensions of the maze\n",
    "    n, m = len(maze), len(maze[0])\n",
    "    \n",
    "    # Directions for movement (right, left, down, up)\n",
    "    directions = [(0, 1), (0, -1), (1, 0), (-1, 0)]\n",
    "    \n",
    "    # Queue to store the cells to explore, starting with the start cell\n",
    "    frontier = deque([((0, 0), 1, [(0, 0)])])  # ((row, col), distance, path)\n",
    "    \n",
    "    # Visited matrix to keep track of visited nodes\n",
    "    visited = [[False for _ in range(m)] for _ in range(n)]\n",
    "    \n",
    "    # Check if start or goal is blocked\n",
    "    if maze[0][0] == 1 or maze[n-1][m-1] == 1:\n",
    "        return -1, []\n",
    "    \n",
    "    # Mark the start cell as visited\n",
    "    visited[0][0] = True\n",
    "    \n",
    "    # Perform BFS\n",
    "    while frontier:\n",
    "        (row, col), dist, path = frontier.popleft()\n",
    "        \n",
    "        # If we've reached the goal, return the distance and path\n",
    "        if row == n-1 and col == m-1:\n",
    "            return dist, path\n",
    "        \n",
    "        # Explore all four possible directions\n",
    "        for dr, dc in directions:\n",
    "            new_row, new_col = row + dr, col + dc\n",
    "            \n",
    "            # Check if the new position is within bounds and not blocked or visited\n",
    "            if 0 <= new_row < n and 0 <= new_col < m and not visited[new_row][new_col] and maze[new_row][new_col] == 0:\n",
    "                # Mark the cell as visited\n",
    "                visited[new_row][new_col] = True\n",
    "                # Add the new position to the frontier with incremented distance and updated path\n",
    "                frontier.append(((new_row, new_col), dist + 1, path + [(new_row, new_col)]))\n",
    "    \n",
    "    # If the goal was not reached, return -1 and an empty path\n",
    "    return -1, []\n",
    "\n",
    "# Example usage\n",
    "maze = [\n",
    "    [0, 1, 0, 0, 0],\n",
    "    [0, 1, 0, 1, 0],\n",
    "    [0, 0, 0, 1, 0],\n",
    "    [0, 1, 1, 1, 0],\n",
    "    [0, 0, 0, 0, 0]\n",
    "]\n",
    "\n",
    "steps, path = bfs_maze(maze)\n",
    "print(f\"BFS: Steps = {steps}, Path = {path}\")"
   ]
  },
  {
   "cell_type": "code",
   "execution_count": 2,
   "metadata": {},
   "outputs": [
    {
     "name": "stdout",
     "output_type": "stream",
     "text": [
      "9\n"
     ]
    }
   ],
   "source": [
    "maze = [\n",
    "    [0, 1, 0, 0, 0],\n",
    "    [0, 1, 0, 1, 0],\n",
    "    [0, 0, 0, 1, 0],\n",
    "    [1, 1, 0, 1, 0],\n",
    "    [0, 0, 0, 0, 0]\n",
    "]\n",
    "\n",
    "print(bfs_maze(maze))  # Output: 9"
   ]
  },
  {
   "cell_type": "markdown",
   "metadata": {},
   "source": [
    "**Lab Task**\n",
    "\n",
    "An agent is standing ready at the top-left corner of a grid (maze) and must reach the bottom-right corner (the goal). The grid contains obstacles, represented by '1s', that the agent cannot pass through. Open spaces are represented by '0s'. The agent can move up, down, left, or right but cannot move diagonally. You have been given 3 mazes and need to implement two algorithms, DFS and IDDFS to find the shortest path to the goal (BFS has already been shown). If the agent reaches the goal, return the number of steps taken. If the goal is unreachable, return -1. Afterwards you need to run each algorithm on the three mazes and compare the results of each. You also need to keep track of and print the path taken by each algorithim (You will need to edit the BFS function as well)\n",
    "\n"
   ]
  },
  {
   "cell_type": "markdown",
   "metadata": {},
   "source": [
    "Q1: DFS Function"
   ]
  },
  {
   "cell_type": "code",
   "execution_count": 7,
   "metadata": {},
   "outputs": [
    {
     "name": "stdout",
     "output_type": "stream",
     "text": [
      "DFS: Steps = 13, Path = [(0, 0), (1, 0), (2, 0), (2, 1), (2, 2), (1, 2), (0, 2), (0, 3), (0, 4), (1, 4), (2, 4), (3, 4), (4, 4)]\n"
     ]
    }
   ],
   "source": [
    "def dfs_agent_maze(maze):\n",
    "    n, m = len(maze), len(maze[0])\n",
    "    directions = [(0, 1), (0, -1), (1, 0), (-1, 0)]\n",
    "    stack = [((0, 0), [(0, 0)])]\n",
    "    visited = set([(0, 0)])\n",
    "    \n",
    "    if maze[0][0] == 1 or maze[n-1][m-1] == 1:\n",
    "        return -1, []\n",
    "    \n",
    "    while stack:\n",
    "        (row, col), path = stack.pop()\n",
    "        \n",
    "        if (row, col) == (n-1, m-1):\n",
    "            return len(path), path\n",
    "        \n",
    "        for dr, dc in directions:\n",
    "            new_row, new_col = row + dr, col + dc\n",
    "            if 0 <= new_row < n and 0 <= new_col < m and (new_row, new_col) not in visited and maze[new_row][new_col] == 0:\n",
    "                visited.add((new_row, new_col))\n",
    "                stack.append(((new_row, new_col), path + [(new_row, new_col)]))\n",
    "    \n",
    "    return -1, []\n",
    "\n",
    "# Example usage\n",
    "maze = [\n",
    "    [0, 1, 0, 0, 0],\n",
    "    [0, 1, 0, 1, 0],\n",
    "    [0, 0, 0, 1, 0],\n",
    "    [1, 1, 0, 1, 0],\n",
    "    [0, 0, 0, 0, 0]\n",
    "]\n",
    "\n",
    "steps, path = dfs_agent_maze(maze)\n",
    "print(f\"DFS: Steps = {steps}, Path = {path}\")"
   ]
  },
  {
   "cell_type": "markdown",
   "metadata": {},
   "source": [
    "Q2: IDDFS function"
   ]
  },
  {
   "cell_type": "code",
   "execution_count": 14,
   "metadata": {},
   "outputs": [
    {
     "name": "stdout",
     "output_type": "stream",
     "text": [
      "IDDFS: Steps = 9, Path = [(0, 0), (1, 0), (2, 0), (2, 1), (2, 2), (3, 2), (4, 2), (4, 3), (4, 4)]\n"
     ]
    }
   ],
   "source": [
    "def iddfs_agent_maze(maze):\n",
    "    n, m = len(maze), len(maze[0])\n",
    "    directions = [(0, 1), (0, -1), (1, 0), (-1, 0)]\n",
    "    \n",
    "    def dls(node, depth, path, visited):\n",
    "        row, col = node\n",
    "        if node == (n-1, m-1):\n",
    "            return len(path), path\n",
    "        \n",
    "        if depth <= 0:\n",
    "            return -1, []\n",
    "        \n",
    "        for dr, dc in directions:\n",
    "            new_row, new_col = row + dr, col + dc\n",
    "            if 0 <= new_row < n and 0 <= new_col < m and (new_row, new_col) not in visited and maze[new_row][new_col] == 0:\n",
    "                visited.add((new_row, new_col))\n",
    "                result, res_path = dls((new_row, new_col), depth - 1, path + [(new_row, new_col)], visited)\n",
    "                if result != -1:\n",
    "                    return result, res_path\n",
    "                visited.remove((new_row, new_col))\n",
    "        \n",
    "        return -1, []\n",
    "    \n",
    "    for depth in range(n * m):\n",
    "        visited = set([(0, 0)])\n",
    "        result, path = dls((0, 0), depth, [(0, 0)], visited)\n",
    "        if result != -1:\n",
    "            return result, path\n",
    "    \n",
    "    return -1, []\n",
    "\n",
    "# Example usage\n",
    "maze = [\n",
    "    [0, 1, 0, 0, 0],\n",
    "    [0, 1, 0, 1, 0],\n",
    "    [0, 0, 0, 1, 0],\n",
    "    [1, 1, 0, 1, 0],\n",
    "    [0, 0, 0, 0, 0]\n",
    "]\n",
    "\n",
    "steps, path = iddfs_agent_maze(maze)\n",
    "print(f\"IDDFS: Steps = {steps}, Path = {path}\")"
   ]
  },
  {
   "cell_type": "markdown",
   "metadata": {},
   "source": [
    "Running all the algos and comparing them. Feel free to edit the print statements to improve readability"
   ]
  },
  {
   "cell_type": "markdown",
   "metadata": {},
   "source": [
    "DISCUSSION:\n",
    "\n",
    "\n",
    "BFS :\n",
    "IN BFS we explore node level by level ,it uses Queue(FIFO) to track of nodes explored.\n",
    "Finding the shortest path in unweighted graph.Can consume a lot of memory.As it stores all current nodes.\n",
    "finds shortest path.\n",
    "\n",
    "DFS:\n",
    "LIFO(stack) ex;lore as far as possible to along each branch before backtracking.\n",
    "Does not guarantee finding shortest path.\n",
    "Efficient in time,\n",
    "sometimes stuck in deep branches and miss shorter paths.\n",
    "\n",
    "IDDFS:\n",
    "Combines the space efficieny of DFS with the optimality of BFS.\n",
    "USes depth and Stack for DFS.\n",
    "Uses less memory and time ,sutiable for large graphs"
   ]
  },
  {
   "cell_type": "code",
   "execution_count": 15,
   "metadata": {},
   "outputs": [
    {
     "name": "stdout",
     "output_type": "stream",
     "text": [
      "MAZE 1 --------------------\n",
      "(9, [(0, 0), (1, 0), (2, 0), (2, 1), (2, 2), (3, 2), (4, 2), (4, 3), (4, 4)])\n",
      "(13, [(0, 0), (1, 0), (2, 0), (2, 1), (2, 2), (1, 2), (0, 2), (0, 3), (0, 4), (1, 4), (2, 4), (3, 4), (4, 4)])\n",
      "(9, [(0, 0), (1, 0), (2, 0), (2, 1), (2, 2), (3, 2), (4, 2), (4, 3), (4, 4)])\n",
      "MAZE 2 --------------------\n",
      "(9, [(0, 0), (0, 1), (0, 2), (0, 3), (0, 4), (1, 4), (2, 4), (3, 4), (4, 4)])\n",
      "(11, [(0, 0), (1, 0), (2, 0), (3, 0), (4, 0), (4, 1), (4, 2), (3, 2), (3, 3), (3, 4), (4, 4)])\n",
      "(9, [(0, 0), (0, 1), (0, 2), (0, 3), (0, 4), (1, 4), (2, 4), (3, 4), (4, 4)])\n",
      "MAZE 3 --------------------\n",
      "(11, [(0, 0), (0, 1), (1, 1), (2, 1), (2, 2), (3, 2), (4, 2), (4, 3), (4, 4), (4, 5), (5, 5)])\n",
      "(11, [(0, 0), (0, 1), (1, 1), (2, 1), (2, 2), (3, 2), (4, 2), (4, 3), (4, 4), (4, 5), (5, 5)])\n",
      "(11, [(0, 0), (0, 1), (1, 1), (2, 1), (2, 2), (3, 2), (4, 2), (4, 3), (4, 4), (4, 5), (5, 5)])\n"
     ]
    }
   ],
   "source": [
    "maze1 = [\n",
    "    [0, 1, 0, 0, 0],\n",
    "    [0, 1, 0, 1, 0],\n",
    "    [0, 0, 0, 1, 0],\n",
    "    [1, 1, 0, 1, 0],\n",
    "    [0, 0, 0, 0, 0]\n",
    "]\n",
    "maze2 = [\n",
    "    [0, 0, 0, 0, 0],\n",
    "    [0, 1, 1, 1, 0],\n",
    "    [0, 1, 0, 1, 0],\n",
    "    [0, 1, 0, 0, 0],\n",
    "    [0, 0, 0, 1, 0]\n",
    "]\n",
    "maze3 = [\n",
    "    [0, 0, 1, 0, 0, 0],\n",
    "    [1, 0, 1, 0, 1, 0],\n",
    "    [1, 0, 0, 0, 1, 0],\n",
    "    [1, 1, 0, 1, 0, 0],\n",
    "    [0, 0, 0, 0, 0, 0],\n",
    "    [0, 1, 1, 1, 1, 0]\n",
    "]\n",
    "\n",
    "print('MAZE 1 --------------------')\n",
    "print(bfs_maze(maze1))  #BFS\n",
    "print(dfs_agent_maze(maze1)) #DFS\n",
    "print(iddfs_agent_maze(maze1)) #IDDFS\n",
    "print('MAZE 2 --------------------')\n",
    "print(bfs_maze(maze2)) # BFS\n",
    "print(dfs_agent_maze(maze2)) #DFS\n",
    "print(iddfs_agent_maze(maze2)) #IDDFS\n",
    "print('MAZE 3 --------------------')\n",
    "print(bfs_maze(maze3)) #BFS\n",
    "print(dfs_agent_maze(maze3))#DFS\n",
    "print(iddfs_agent_maze(maze3))#IDDFS\n",
    "\n",
    "\n"
   ]
  }
 ],
 "metadata": {
  "kernelspec": {
   "display_name": "Python 3",
   "language": "python",
   "name": "python3"
  },
  "language_info": {
   "codemirror_mode": {
    "name": "ipython",
    "version": 3
   },
   "file_extension": ".py",
   "mimetype": "text/x-python",
   "name": "python",
   "nbconvert_exporter": "python",
   "pygments_lexer": "ipython3",
   "version": "3.12.5"
  }
 },
 "nbformat": 4,
 "nbformat_minor": 2
}
