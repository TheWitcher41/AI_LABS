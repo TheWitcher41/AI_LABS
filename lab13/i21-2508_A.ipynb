{
 "cells": [
  {
   "cell_type": "markdown",
   "metadata": {},
   "source": [
    "\n",
    "Combining the KVL and KCL equations, we have:\n",
    "\n",
    "1. \\( 20 - 2I_0 - 1I_2 = 0 \\) (KVL Loop 1)\n",
    "2. \\( 1I_2 - 2I_3 - 2I_5 = 0 \\) (KVL Loop 2)\n",
    "3. \\( 2I_3 - 1I_4 - 2I_6 = 0 \\) (KVL Loop 3)\n",
    "4. \\( 2I_5 + 2I_6 - 1I_7 = 0 \\) (KVL Loop 4)\n",
    "5. \\( I_0 = I_1 + I_2 \\) (KCL Node A)\n",
    "6. \\( I_2 = I_3 + I_4 \\) (KCL Node B)\n",
    "7. \\( I_5 + I_6 = I_1 + I_3 \\) (KCL Node C)\n",
    "8. \\( I_4 + I_6 = I_7 \\) (KCL Node D)\n",
    "\n"
   ]
  },
  {
   "cell_type": "markdown",
   "metadata": {},
   "source": [
    "\n",
    "\n",
    "\n",
    "\n",
    "The system of equations is:\n",
    "\n",
    "1. \\( 20 - 2I_0 - I_2 = 0 \\)\n",
    "2. \\( I_2 - 2I_3 - 2I_5 = 0 \\)\n",
    "3. \\( 2I_3 - I_4 - 2I_6 = 0 \\)\n",
    "4. \\( 2I_5 + 2I_6 - I_7 = 0 \\)\n",
    "5. \\( I_0 - I_1 - I_2 = 0 \\)\n",
    "6. \\( I_2 - I_3 - I_4 = 0 \\)\n",
    "7. \\( -I_1 - I_3 + I_5 + I_6 = 0 \\)\n",
    "8. \\( I_4 + I_6 - I_7 = 0 \\)\n",
    "\n",
    "Rewriting each equation:\n",
    "\n",
    "1. \\( -2I_0 + 0I_1 - 1I_2 + 0I_3 + 0I_4 + 0I_5 + 0I_6 + 0I_7 = -20 \\)\n",
    "2. \\( 0I_0 + 0I_1 + 1I_2 - 2I_3 + 0I_4 - 2I_5 + 0I_6 + 0I_7 = 0 \\)\n",
    "3. \\( 0I_0 + 0I_1 + 0I_2 + 2I_3 - 1I_4 + 0I_5 - 2I_6 + 0I_7 = 0 \\)\n",
    "4. \\( 0I_0 + 0I_1 + 0I_2 + 0I_3 + 0I_4 + 2I_5 + 2I_6 - 1I_7 = 0 \\)\n",
    "5. \\( 1I_0 - 1I_1 - 1I_2 + 0I_3 + 0I_4 + 0I_5 + 0I_6 + 0I_7 = 0 \\)\n",
    "6. \\( 0I_0 + 0I_1 + 1I_2 - 1I_3 - 1I_4 + 0I_5 + 0I_6 + 0I_7 = 0 \\)\n",
    "7. \\( 0I_0 - 1I_1 + 0I_2 - 1I_3 + 0I_4 + 1I_5 + 1I_6 + 0I_7 = 0 \\)\n",
    "8. \\( 0I_0 + 0I_1 + 0I_2 + 0I_3 + 1I_4 + 0I_5 + 1I_6 - 1I_7 = 0 \\)\n",
    "\n",
    "\n",
    "\n",
    "\n",
    "\n",
    "\n",
    "\\begin{bmatrix}\n",
    "-2 &  0 & -1 &  0 &  0 &  0 &  0 &  0 \\\\\n",
    " 0 &  0 &  1 & -2 &  0 & -2 &  0 &  0 \\\\\n",
    " 0 &  0 &  0 &  2 & -1 &  0 & -2 &  0 \\\\\n",
    " 0 &  0 &  0 &  0 &  0 &  2 &  2 & -1 \\\\\n",
    " 1 & -1 & -1 &  0 &  0 &  0 &  0 &  0 \\\\\n",
    " 0 &  0 &  1 & -1 & -1 &  0 &  0 &  0 \\\\\n",
    " 0 & -1 &  0 & -1 &  0 &  1 &  1 &  0 \\\\\n",
    " 0 &  0 &  0 &  0 &  1 &  0 &  1 & -1\n",
    "\\end{bmatrix}\n"
   ]
  },
  {
   "cell_type": "code",
   "execution_count": 1,
   "metadata": {},
   "outputs": [],
   "source": [
    "import numpy as np\n",
    "from scipy.sparse import csr_matrix\n",
    "from scipy.sparse.linalg import spsolve\n",
    "from time import time\n",
    "\n",
    "# Define the matrix A\n",
    "A = np.array([\n",
    "    [-2,  0, -1,  0,  0,  0,  0,  0],\n",
    "    [ 0,  0,  1, -2,  0, -2,  0,  0],\n",
    "    [ 0,  0,  0,  2, -1,  0, -2,  0],\n",
    "    [ 0,  0,  0,  0,  0,  2,  2, -1],\n",
    "    [ 1, -1, -1,  0,  0,  0,  0,  0],\n",
    "    [ 0,  0,  1, -1, -1,  0,  0,  0],\n",
    "    [ 0, -1,  0, -1,  0,  1,  1,  0],\n",
    "    [ 0,  0,  0,  0,  1,  0,  1, -1]\n",
    "])\n",
    "\n",
    "# Define the vector b\n",
    "b = np.array([-20, 0, 0, 0, 0, 0, 0, 0])"
   ]
  },
  {
   "cell_type": "code",
   "execution_count": 2,
   "metadata": {},
   "outputs": [
    {
     "name": "stdout",
     "output_type": "stream",
     "text": [
      "Solution using dense matrix techniques:\n",
      "[ 5.00000000e+00 -5.00000000e+00  1.00000000e+01  1.00000000e+01\n",
      "  7.61295788e-16 -5.00000000e+00  1.00000000e+01  1.00000000e+01]\n",
      "Time taken: 0.036554 seconds\n"
     ]
    }
   ],
   "source": [
    "# Solve using dense matrix techniques\n",
    "start_time = time()\n",
    "x_dense = np.linalg.solve(A, b)\n",
    "dense_time = time() - start_time\n",
    "\n",
    "print(\"Solution using dense matrix techniques:\")\n",
    "print(x_dense)\n",
    "print(f\"Time taken: {dense_time:.6f} seconds\")"
   ]
  },
  {
   "cell_type": "code",
   "execution_count": 3,
   "metadata": {},
   "outputs": [
    {
     "name": "stdout",
     "output_type": "stream",
     "text": [
      "\n",
      "Solution using sparse matrix techniques:\n",
      "[ 5.0000000e+00 -5.0000000e+00  1.0000000e+01  1.0000000e+01\n",
      "  8.8817842e-16 -5.0000000e+00  1.0000000e+01  1.0000000e+01]\n",
      "Time taken: 0.057102 seconds\n"
     ]
    }
   ],
   "source": [
    "# Convert A to a sparse matrix\n",
    "A_sparse = csr_matrix(A)\n",
    "\n",
    "# Solve using sparse matrix techniques\n",
    "start_time = time()\n",
    "x_sparse = spsolve(A_sparse, b)\n",
    "sparse_time = time() - start_time\n",
    "\n",
    "print(\"\\nSolution using sparse matrix techniques:\")\n",
    "print(x_sparse)\n",
    "print(f\"Time taken: {sparse_time:.6f} seconds\")"
   ]
  },
  {
   "cell_type": "code",
   "execution_count": 4,
   "metadata": {},
   "outputs": [
    {
     "name": "stdout",
     "output_type": "stream",
     "text": [
      "\n",
      "Comparison of speed:\n",
      "Dense matrix time: 0.036554 seconds\n",
      "Sparse matrix time: 0.057102 seconds\n",
      "\n",
      "Difference between the two solutions:\n",
      "[0.00000000e+00 1.77635684e-15 0.00000000e+00 0.00000000e+00\n",
      " 1.26882631e-16 8.88178420e-16 0.00000000e+00 0.00000000e+00]\n"
     ]
    }
   ],
   "source": [
    "# Compare the speed\n",
    "print(\"\\nComparison of speed:\")\n",
    "print(f\"Dense matrix time: {dense_time:.6f} seconds\")\n",
    "print(f\"Sparse matrix time: {sparse_time:.6f} seconds\")\n",
    "\n",
    "# Compute the difference\n",
    "difference = np.abs(x_dense - x_sparse)\n",
    "print(\"\\nDifference between the two solutions:\")\n",
    "print(difference)"
   ]
  },
  {
   "cell_type": "code",
   "execution_count": 5,
   "metadata": {},
   "outputs": [
    {
     "name": "stdout",
     "output_type": "stream",
     "text": [
      "\n",
      "Verification of dense solution:\n",
      "True\n",
      "\n",
      "Verification of sparse solution:\n",
      "True\n"
     ]
    }
   ],
   "source": [
    "# Verify the solutions\n",
    "def verify_solution(A, x, b):\n",
    "    residual = np.dot(A, x) - b\n",
    "    return np.allclose(residual, np.zeros_like(b))\n",
    "\n",
    "print(\"\\nVerification of dense solution:\")\n",
    "print(verify_solution(A, x_dense, b))\n",
    "\n",
    "print(\"\\nVerification of sparse solution:\")\n",
    "print(verify_solution(A, x_sparse, b))"
   ]
  },
  {
   "cell_type": "markdown",
   "metadata": {},
   "source": [
    "\n",
    "### Explanation\n",
    "\n",
    "1. **Define the Matrix and Vectors**: The matrix \\( \\mathbf{A} \\) and vector \\( \\mathbf{b} \\) are defined.\n",
    "2. **Solve Using Dense Matrix Techniques**: We solve the system using NumPy's `linalg.solve` and measure the time taken.\n",
    "3. **Solve Using Sparse Matrix Techniques**: We convert the matrix \\( \\mathbf{A} \\) to a sparse format and solve the system using SciPy's `spsolve`, measuring the time taken.\n",
    "4. **Compare the Speed**: We compare the time taken by both methods.\n",
    "5. **Compute the Difference**: We compute the absolute difference between the solutions obtained by the two methods.\n",
    "6. **Verify the Solutions**: We define a function `verify_solution` that checks if the solution satisfies the original equations by computing the residual \\( \\mathbf{A} \\mathbf{x} - \\mathbf{b} \\) and checking if it is close to zero.\n"
   ]
  }
 ],
 "metadata": {
  "kernelspec": {
   "display_name": "Python 3",
   "language": "python",
   "name": "python3"
  },
  "language_info": {
   "codemirror_mode": {
    "name": "ipython",
    "version": 3
   },
   "file_extension": ".py",
   "mimetype": "text/x-python",
   "name": "python",
   "nbconvert_exporter": "python",
   "pygments_lexer": "ipython3",
   "version": "3.13.0"
  }
 },
 "nbformat": 4,
 "nbformat_minor": 2
}
