{
 "cells": [
  {
   "cell_type": "code",
   "execution_count": 1,
   "metadata": {},
   "outputs": [],
   "source": [
    "import pandas as pd\n",
    "import numpy as np\n",
    "\n",
    "# Load the dataset\n",
    "data = pd.read_csv('loan_dataset.csv')\n",
    "\n",
    "# Extract relevant features and target variable\n",
    "X = data[['income', 'credit_score']].values\n",
    "y = data['loan_status'].apply(lambda x: 1 if x == 'Approved' else 0).values"
   ]
  },
  {
   "cell_type": "code",
   "execution_count": 2,
   "metadata": {},
   "outputs": [],
   "source": [
    "# Initialize weights and bias with specified values\n",
    "weights = np.array([0.2, 0.5])\n",
    "bias = 0.08\n",
    "learning_rate = 0.01\n"
   ]
  },
  {
   "cell_type": "code",
   "execution_count": 3,
   "metadata": {},
   "outputs": [
    {
     "name": "stdout",
     "output_type": "stream",
     "text": [
      "Initial loss: 6.039567435404941\n",
      "Loss after one epoch: 16.986283472933124\n",
      "Epoch 1, Loss: 16.986283472933124\n",
      "Epoch 2, Loss: 6.039567435404941\n",
      "Epoch 3, Loss: 6.039567435404941\n",
      "Epoch 4, Loss: 6.039567435404941\n",
      "Epoch 5, Loss: 6.039567435404941\n",
      "Epoch 6, Loss: 6.039567435404941\n",
      "Epoch 7, Loss: 6.039567435404941\n",
      "Epoch 8, Loss: 16.986283472933124\n",
      "Epoch 9, Loss: 6.039567435404941\n",
      "Epoch 10, Loss: 6.039567435404941\n",
      "Final loss after 10 epochs: 6.039567435404941\n",
      "Final weights: [434.79016393  -2.92131148]\n",
      "Final bias: 0.07114754098360654\n"
     ]
    }
   ],
   "source": [
    "def sigmoid(z):\n",
    "    # Clip input values to avoid overflow\n",
    "    z = np.clip(z, -500, 500)\n",
    "    return 1 / (1 + np.exp(-z))\n",
    "\n",
    "def predict(X, weights, bias):\n",
    "    return sigmoid(np.dot(X, weights) + bias)\n",
    "\n",
    "def binary_cross_entropy(y_true, y_pred):\n",
    "    # Clip predicted probabilities to avoid log(0)\n",
    "    y_pred = np.clip(y_pred, 1e-10, 1 - 1e-10)\n",
    "    return -np.mean(y_true * np.log(y_pred) + (1 - y_true) * np.log(1 - y_pred))\n",
    "\n",
    "# Manual calculations for one epoch\n",
    "# Predict probabilities\n",
    "y_pred = predict(X, weights, bias)\n",
    "\n",
    "# Calculate the error (loss)\n",
    "loss = binary_cross_entropy(y, y_pred)\n",
    "print(f'Initial loss: {loss}')\n",
    "\n",
    "# Calculate gradients\n",
    "dw = np.dot(X.T, (y_pred - y)) / y.size\n",
    "db = np.sum(y_pred - y) / y.size\n",
    "\n",
    "# Update weights and bias\n",
    "weights -= learning_rate * dw\n",
    "bias -= learning_rate * db\n",
    "\n",
    "# Predict probabilities after weight update\n",
    "y_pred = predict(X, weights, bias)\n",
    "\n",
    "# Calculate the error (loss) after weight update\n",
    "loss = binary_cross_entropy(y, y_pred)\n",
    "print(f'Loss after one epoch: {loss}')\n",
    "\n",
    "# Train the model programmatically for 10 epochs\n",
    "for epoch in range(10):\n",
    "    # Predict probabilities\n",
    "    y_pred = predict(X, weights, bias)\n",
    "    \n",
    "    # Calculate gradients\n",
    "    dw = np.dot(X.T, (y_pred - y)) / y.size\n",
    "    db = np.sum(y_pred - y) / y.size\n",
    "    \n",
    "    # Update weights and bias\n",
    "    weights -= learning_rate * dw\n",
    "    bias -= learning_rate * db\n",
    "    \n",
    "    # Calculate the error (loss)\n",
    "    loss = binary_cross_entropy(y, y_pred)\n",
    "    print(f'Epoch {epoch + 1}, Loss: {loss}')\n",
    "\n",
    "# Recalculate the error using the final weights\n",
    "# Predict probabilities with final weights\n",
    "y_pred = predict(X, weights, bias)\n",
    "\n",
    "# Calculate the final error (loss)\n",
    "final_loss = binary_cross_entropy(y, y_pred)\n",
    "print(f'Final loss after 10 epochs: {final_loss}')\n",
    "\n",
    "# Show final weights\n",
    "print(f'Final weights: {weights}')\n",
    "print(f'Final bias: {bias}')"
   ]
  }
 ],
 "metadata": {
  "kernelspec": {
   "display_name": "Python 3",
   "language": "python",
   "name": "python3"
  },
  "language_info": {
   "codemirror_mode": {
    "name": "ipython",
    "version": 3
   },
   "file_extension": ".py",
   "mimetype": "text/x-python",
   "name": "python",
   "nbconvert_exporter": "python",
   "pygments_lexer": "ipython3",
   "version": "3.13.0"
  }
 },
 "nbformat": 4,
 "nbformat_minor": 2
}
